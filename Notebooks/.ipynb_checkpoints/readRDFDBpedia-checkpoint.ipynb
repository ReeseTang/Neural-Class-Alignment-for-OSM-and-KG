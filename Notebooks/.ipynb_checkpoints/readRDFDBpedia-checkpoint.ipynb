{
 "cells": [
  {
   "cell_type": "code",
   "execution_count": null,
   "metadata": {},
   "outputs": [],
   "source": [
    "from ast import literal_eval\n",
    "import pandas as pd\n",
    "import numpy as np\n",
    "import re\n",
    "import gensim\n",
    "import time\n",
    "from numpy import array\n",
    "from numpy import asarray\n",
    "from numpy import zeros\n",
    "import psycopg2\n",
    "import pickle\n",
    "import random\n",
    "from urllib.error import HTTPError, URLError\n",
    "from qwikidata.sparql  import return_sparql_query_results\n",
    "import sys\n",
    "from SPARQLWrapper import SPARQLWrapper, JSON, SPARQLExceptions\n",
    "import requests\n",
    "from bs4 import BeautifulSoup"
   ]
  },
  {
   "cell_type": "code",
   "execution_count": null,
   "metadata": {},
   "outputs": [],
   "source": [
    "lines = []\n",
    "with open(\"franceRDFDbpedia.txt\", \"r\") as a_file:\n",
    "    for line in a_file:\n",
    "        stripped_line = line.strip()\n",
    "        lines.append(re.split(r'\\t', stripped_line))"
   ]
  },
  {
   "cell_type": "code",
   "execution_count": null,
   "metadata": {},
   "outputs": [],
   "source": [
    "for i in range(len(lines)):\n",
    "    try:\n",
    "        if len(lines[i])<3:\n",
    "            lines.remove(lines[i])\n",
    "    except IndexError:\n",
    "        lines.remove(lines[48593]) ###remove this later\n",
    "        break\n",
    "    if len(lines[i])>4:\n",
    "        del lines[i][3:]\n",
    "    if len(lines[i])==4:\n",
    "        del lines[i][3]"
   ]
  },
  {
   "cell_type": "code",
   "execution_count": null,
   "metadata": {},
   "outputs": [],
   "source": [
    "node = []\n",
    "key = []\n",
    "value = []\n",
    "for i in range(len(lines)):\n",
    "    try:\n",
    "        \n",
    "        node.append(lines[i][0])\n",
    "        key.append(lines[i][1])\n",
    "        value.append(lines[i][2])\n",
    "        \n",
    "    except IndexError:\n",
    "        print(i)"
   ]
  },
  {
   "cell_type": "code",
   "execution_count": null,
   "metadata": {},
   "outputs": [],
   "source": [
    "for i in range(len(node)):\n",
    "    node[i] = node[i].replace('<https://www.openstreetmap.org/node/','')\n",
    "    node[i] = node[i].replace('>', '')"
   ]
  },
  {
   "cell_type": "code",
   "execution_count": null,
   "metadata": {},
   "outputs": [],
   "source": [
    "for i in range(len(node)):\n",
    "    key[i] = key[i].replace('<https://wiki.openstreetmap.org/wiki/Key:','')\n",
    "    key[i] = key[i].replace('>', '')"
   ]
  },
  {
   "cell_type": "code",
   "execution_count": null,
   "metadata": {},
   "outputs": [],
   "source": [
    "data = pd.DataFrame(list(zip(node, key, value)),columns = ['node','key', 'value']) "
   ]
  },
  {
   "cell_type": "code",
   "execution_count": null,
   "metadata": {},
   "outputs": [],
   "source": [
    "data['value'] = data['value'].str.replace('\\\"', '')"
   ]
  },
  {
   "cell_type": "code",
   "execution_count": null,
   "metadata": {},
   "outputs": [],
   "source": [
    "data['tagKey'] = data[['key', 'value']].apply(lambda x: '='.join(x), axis=1)"
   ]
  },
  {
   "cell_type": "code",
   "execution_count": null,
   "metadata": {},
   "outputs": [],
   "source": [
    "data = data[(data.key != '<http://www.w3.org/2003/01/geo/wgs84_pos#long') & (data.key != '<http://www.w3.org/2003/01/geo/wgs84_pos#Point')]\n",
    "data = data[(data.key != '<http://www.w3.org/1999/02/22-rdf-syntax-ns#type') & (data.key != '<http://www.w3.org/2003/01/geo/wgs84_pos#lat')]"
   ]
  },
  {
   "cell_type": "code",
   "execution_count": null,
   "metadata": {},
   "outputs": [],
   "source": [
    "osmTag = pd.read_csv('osmTagKeyWiki.csv', sep=',', encoding='utf-8',)\n",
    "osmKey = pd.read_csv('osmKeyWiki.csv', sep=',', encoding='utf-8',)"
   ]
  },
  {
   "cell_type": "code",
   "execution_count": null,
   "metadata": {},
   "outputs": [],
   "source": [
    "osmKey = osmKey.drop_duplicates(subset='Keys', keep=\"first\")"
   ]
  },
  {
   "cell_type": "code",
   "execution_count": null,
   "metadata": {},
   "outputs": [],
   "source": [
    "keys = list(osmKey.Keys.values)\n",
    "tags = list(osmTag.Tags.values)"
   ]
  },
  {
   "cell_type": "code",
   "execution_count": null,
   "metadata": {},
   "outputs": [],
   "source": [
    "osm_id = []\n",
    "osmwiki_id = []\n",
    "osmtagkey = []\n",
    "wikipedia = []\n",
    "for index, row in data.iterrows():\n",
    "    if row['key'] == 'wikipedia':\n",
    "        wikipedia.append(row['value'])\n",
    "        osmwiki_id.append(row['node'])\n",
    "    if row['tagKey'] in tags:\n",
    "        osm_id.append(row['node'])\n",
    "        osmtagkey.append(row['tagKey'])\n",
    "    else:\n",
    "        osm_id.append(row['node'])\n",
    "        osmtagkey.append(row['key'])        "
   ]
  },
  {
   "cell_type": "code",
   "execution_count": null,
   "metadata": {},
   "outputs": [],
   "source": [
    "osmdata = pd.DataFrame(list(zip(osm_id, osmtagkey)),columns = ['osm_id','osmTagKey']) "
   ]
  },
  {
   "cell_type": "code",
   "execution_count": null,
   "metadata": {},
   "outputs": [],
   "source": [
    "osmWiki = pd.DataFrame(list(zip(osmwiki_id, wikipedia)),columns = ['osm_id','wikipedia']) "
   ]
  },
  {
   "cell_type": "code",
   "execution_count": null,
   "metadata": {},
   "outputs": [],
   "source": [
    "osmdata = pd.merge(osmWiki, osmdata, on = 'osm_id')"
   ]
  },
  {
   "cell_type": "code",
   "execution_count": null,
   "metadata": {},
   "outputs": [],
   "source": [
    "dbEnt= list(set(list(data.loc[data['key'] == 'wikipedia', 'value'])))\n",
    "for i in range(len(dbEnt)):\n",
    "    dbEnt[i] = dbEnt[i].replace('\\\"','')\n",
    "    "
   ]
  },
  {
   "cell_type": "code",
   "execution_count": null,
   "metadata": {},
   "outputs": [],
   "source": [
    "def get_results(endpoint_url, query):\n",
    "    user_agent = \"WDQS-example Python/%s.%s\" % (sys.version_info[0], sys.version_info[1])\n",
    "    # TODO adjust user agent; see https://w.wiki/CX6\n",
    "    sparql = SPARQLWrapper(endpoint_url, agent=user_agent)\n",
    "    sparql.setQuery(query)\n",
    "    sparql.setReturnFormat(JSON)\n",
    "    return sparql.query().convert()"
   ]
  },
  {
   "cell_type": "code",
   "execution_count": null,
   "metadata": {},
   "outputs": [],
   "source": [
    "wiki_Data = []\n",
    "wiki_ent = []"
   ]
  },
  {
   "cell_type": "code",
   "execution_count": null,
   "metadata": {
    "scrolled": true
   },
   "outputs": [],
   "source": [
    "for i in range(len(dbEnt)):\n",
    "    print(dbEnt[i])\n",
    "    language = dbEnt[i][0:2]\n",
    "    #print(language)\n",
    "    if language =='en':\n",
    "        endpoint_url = 'http://dbpedia.org/sparql'\n",
    "        query = \"\"\"PREFIX db: <http://dbpedia.org/resource/>\n",
    "        PREFIX prop: <http://dbpedia.org/property/>\n",
    "        PREFIX onto: <http://dbpedia.org/ontology/>\n",
    "        select distinct ?property ?value\n",
    "        where { \n",
    "        {\n",
    "           db:%s ?property ?value. \n",
    "        }\n",
    "        union{\n",
    "            ?value ?property db:%s. \n",
    "        }\n",
    "        }\"\"\"%(dbEnt[i][3:].replace(' ','_'), dbEnt[i][3:].replace(' ','_'))\n",
    "    \n",
    "    elif language in ['de', 'fr']:#, 'sv', 'pl', 'de', 'nl', 'ar', 'eu','ca','cs','eo','el','id','ja','ko','pt','es','uk']:\n",
    "        endpoint_url = 'http://%s.dbpedia.org/sparql'%language\n",
    "        query = \"\"\"PREFIX db: <http://%s.dbpedia.org/resource/>\n",
    "        PREFIX prop: <http://%s.dbpedia.org/property/>\n",
    "        PREFIX onto: <http://%s.dbpedia.org/ontology/>\n",
    "        select distinct ?property ?value\n",
    "        where { \n",
    "        {\n",
    "           db:%s ?property ?value. \n",
    "        }\n",
    "        union{\n",
    "            ?value ?property db:%s. \n",
    "        }\n",
    "        }\"\"\"%(language,language,language,dbEnt[i][3:].replace(' ','_'), dbEnt[i][3:].replace(' ','_'))\n",
    "    #print(query)\n",
    "    else:\n",
    "        continue\n",
    "    try:\n",
    "        results = get_results(endpoint_url, query)\n",
    "        wiki_Data.append(results)\n",
    "        wiki_ent.append(dbEnt[i])\n",
    "    except SPARQLExceptions.QueryBadFormed:\n",
    "        SPARQLExceptions.QueryBadFormed\n",
    "    "
   ]
  },
  {
   "cell_type": "code",
   "execution_count": null,
   "metadata": {},
   "outputs": [],
   "source": [
    "dbpediaEnt = []\n",
    "wdLabel = []\n",
    "ps_Label = []\n",
    "for i in range(len(wiki_Data)):\n",
    "    for j in range(len(wiki_Data[i]['results']['bindings'])):\n",
    "        dbpediaEnt.append(wiki_ent[i])\n",
    "        wdLabel.append(wiki_Data[i]['results']['bindings'][j]['property']['value'])\n",
    "        ps_Label.append(wiki_Data[i]['results']['bindings'][j]['value']['value'])\n"
   ]
  },
  {
   "cell_type": "code",
   "execution_count": null,
   "metadata": {},
   "outputs": [],
   "source": [
    "for i in range(len(wdLabel)):\n",
    "    try:\n",
    "        wdLabel[i] = wdLabel[i].rsplit('/',1)[1]\n",
    "    except IndexError:\n",
    "        IndexError"
   ]
  },
  {
   "cell_type": "code",
   "execution_count": null,
   "metadata": {},
   "outputs": [],
   "source": [
    "for i in range(len(ps_Label)):\n",
    "    try:\n",
    "        ps_Label[i] = ps_Label[i].rsplit('/',1)[1]\n",
    "    except IndexError:\n",
    "        IndexError"
   ]
  },
  {
   "cell_type": "code",
   "execution_count": null,
   "metadata": {},
   "outputs": [],
   "source": [
    "wikiTable = pd.DataFrame(list(zip(dbpediaEnt, wdLabel, ps_Label)),columns = ['wikipedia','prop', 'value']) "
   ]
  },
  {
   "cell_type": "code",
   "execution_count": null,
   "metadata": {},
   "outputs": [],
   "source": [
    "wikiTable = wikiTable.drop_duplicates()"
   ]
  },
  {
   "cell_type": "code",
   "execution_count": null,
   "metadata": {},
   "outputs": [],
   "source": [
    "wikiTable = wikiTable[wikiTable['prop'] != 'owl#sameAs']\n",
    "wikiTable = wikiTable[wikiTable['prop'] != 'subject']\n",
    "wikiTable = wikiTable[wikiTable['prop'] != 'wikiPageUsesTemplate']\n",
    "wikiTable = wikiTable[wikiTable['prop'] != 'wikiPageWikiLink']\n",
    "wikiTable = wikiTable[wikiTable['prop'] != 'rdf-schema#comment']\n",
    "wikiTable = wikiTable[wikiTable['prop'] != 'abstract']\n",
    "wikiTable = wikiTable[wikiTable['prop'] != 'rdf-schema#label']\n",
    "wikiTable = wikiTable[wikiTable['value'] != 'France']\n",
    "wikiTable = wikiTable[~wikiTable.prop.str.startswith('wikiPage')]\n",
    "wikiTable = wikiTable[~wikiTable['value'].astype(str).str.match(\"Q[0-9]+\")]"
   ]
  },
  {
   "cell_type": "code",
   "execution_count": null,
   "metadata": {},
   "outputs": [],
   "source": [
    "wikiTableClass = wikiTable[wikiTable['prop'] == '22-rdf-syntax-ns#type']"
   ]
  },
  {
   "cell_type": "code",
   "execution_count": null,
   "metadata": {},
   "outputs": [],
   "source": [
    "wikiTableClass = wikiTableClass[wikiTableClass['value'].isin(wikiTableClass['value'].value_counts()[wikiTableClass['value'].value_counts()> 100].index)]"
   ]
  },
  {
   "cell_type": "code",
   "execution_count": null,
   "metadata": {},
   "outputs": [],
   "source": [
    "wikiTableClass = wikiTableClass.drop(['prop'],axis = 1)"
   ]
  },
  {
   "cell_type": "code",
   "execution_count": null,
   "metadata": {},
   "outputs": [],
   "source": [
    "wikiTableClass = wikiTableClass.rename({'value': 'cls'}, axis=1)"
   ]
  },
  {
   "cell_type": "code",
   "execution_count": null,
   "metadata": {},
   "outputs": [],
   "source": [
    "wikiTest = pd.merge(wikiTable,wikiTableClass, on='wikipedia')"
   ]
  },
  {
   "cell_type": "code",
   "execution_count": null,
   "metadata": {},
   "outputs": [],
   "source": [
    "className = []\n",
    "propName = []\n",
    "tfidf = []\n",
    "count = 0\n",
    "for j in (list(wikiTest['cls'].unique())):\n",
    "    if j == 'human':\n",
    "        continue\n",
    "    else:\n",
    "        print(j)\n",
    "        for i in (list(wikiTest[wikiTest['cls']==j]['prop'].unique())):\n",
    "            tf = len(wikiTest[(wikiTest['cls']== j) & (wikiTest['prop']== i)])\n",
    "            df = len(wikiTest[wikiTest['prop']== i]['cls'].value_counts())\n",
    "            N = 40\n",
    "            weight = tf * (np.log (N/df))\n",
    "            if weight == 0:\n",
    "                continue\n",
    "            else:\n",
    "                className.append(j)\n",
    "                propName.append(i)\n",
    "                tfidf.append(weight)\n",
    "                #[(j,i)] = weight"
   ]
  },
  {
   "cell_type": "code",
   "execution_count": null,
   "metadata": {},
   "outputs": [],
   "source": [
    "tfidfweights = pd.DataFrame(list(zip(className, propName, tfidf)),\n",
    "                    columns = ['cls', 'prop', 'tfidfval'])"
   ]
  },
  {
   "cell_type": "code",
   "execution_count": null,
   "metadata": {},
   "outputs": [],
   "source": [
    "groupsort = tfidfweights.sort_values(['cls'], ascending=True).groupby(['cls'], sort=False).apply(lambda x: x.sort_values(['tfidfval'], ascending=False)).reset_index(drop=True)"
   ]
  },
  {
   "cell_type": "code",
   "execution_count": null,
   "metadata": {},
   "outputs": [],
   "source": [
    "groupsort = groupsort.groupby('cls').head(25)"
   ]
  },
  {
   "cell_type": "code",
   "execution_count": null,
   "metadata": {},
   "outputs": [],
   "source": [
    "currentList = list(groupsort.prop.unique())"
   ]
  },
  {
   "cell_type": "code",
   "execution_count": null,
   "metadata": {},
   "outputs": [],
   "source": [
    "wikiTable = wikiTable[wikiTable['prop'].isin(currentList)]"
   ]
  },
  {
   "cell_type": "code",
   "execution_count": null,
   "metadata": {},
   "outputs": [],
   "source": [
    "cat_columns = [\"prop\"]\n",
    "oneHotWikiProp = pd.get_dummies(wikiTable, prefix_sep=\"_\", columns=cat_columns)\n",
    "oneHotWikiProp = oneHotWikiProp.groupby(oneHotWikiProp['wikipedia'], as_index = False).sum()"
   ]
  },
  {
   "cell_type": "code",
   "execution_count": null,
   "metadata": {},
   "outputs": [],
   "source": [
    "cat_columns = [\"cls\"]\n",
    "onehotClass = pd.get_dummies(wikiTableClass, prefix_sep=\"_\", columns=cat_columns)\n",
    "onehotClass = onehotClass.groupby(onehotClass['wikipedia'], as_index = False).sum()"
   ]
  },
  {
   "cell_type": "code",
   "execution_count": null,
   "metadata": {},
   "outputs": [],
   "source": [
    "cat_columns = [\"osmTagKey\"]\n",
    "onehotTags = pd.get_dummies(osmdata, prefix_sep=\"_\", columns=cat_columns)\n",
    "onehotTags = onehotTags.groupby(['osm_id','wikipedia'], as_index = False).sum()\n",
    "    "
   ]
  },
  {
   "cell_type": "code",
   "execution_count": null,
   "metadata": {},
   "outputs": [],
   "source": [
    "tempMerge = pd.merge(oneHotWikiProp, onehotClass, on = 'wikipedia')"
   ]
  },
  {
   "cell_type": "code",
   "execution_count": null,
   "metadata": {},
   "outputs": [],
   "source": [
    "Data = pd.merge(onehotTags,tempMerge, on = 'wikipedia' )"
   ]
  },
  {
   "cell_type": "code",
   "execution_count": null,
   "metadata": {},
   "outputs": [],
   "source": [
    "Data =Data[Data['cls_wgs84_pos#SpatialThing'] == 1]"
   ]
  },
  {
   "cell_type": "code",
   "execution_count": null,
   "metadata": {},
   "outputs": [],
   "source": [
    "Data =Data.drop(['cls_wgs84_pos#SpatialThing'], axis = 1)"
   ]
  },
  {
   "cell_type": "code",
   "execution_count": null,
   "metadata": {},
   "outputs": [],
   "source": [
    "Data.to_csv('Data/Wikipedia/France/France.csv', sep='\\t', encoding='utf-8', index=False)"
   ]
  },
  {
   "cell_type": "code",
   "execution_count": null,
   "metadata": {},
   "outputs": [],
   "source": []
  }
 ],
 "metadata": {
  "kernelspec": {
   "display_name": "Python 3",
   "language": "python",
   "name": "python3"
  },
  "language_info": {
   "codemirror_mode": {
    "name": "ipython",
    "version": 3
   },
   "file_extension": ".py",
   "mimetype": "text/x-python",
   "name": "python",
   "nbconvert_exporter": "python",
   "pygments_lexer": "ipython3",
   "version": "3.6.9"
  }
 },
 "nbformat": 4,
 "nbformat_minor": 4
}
